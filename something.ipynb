{
 "cells": [
  {
   "cell_type": "code",
   "execution_count": 26,
   "metadata": {},
   "outputs": [],
   "source": [
    "totalcount = 0\n",
    "langcount = []\n",
    "diction = {}\n",
    "lang_list = [{'_id': {'srcLanguage': 'en', 'tgtLanguage': 'ml'}, 'count': 6688}, {'_id': {'srcLanguage': 'en', 'tgtLanguage': 'hi'}, 'count': 227645}]"
   ]
  },
  {
   "cell_type": "code",
   "execution_count": 27,
   "metadata": {},
   "outputs": [
    {
     "ename": "TypeError",
     "evalue": "unhashable type: 'dict'",
     "output_type": "error",
     "traceback": [
      "\u001b[0;31m---------------------------------------------------------------------------\u001b[0m",
      "\u001b[0;31mTypeError\u001b[0m                                 Traceback (most recent call last)",
      "\u001b[1;32m/home/rathan/Desktop/something.ipynb Cell 2\u001b[0m in \u001b[0;36m<cell line: 2>\u001b[0;34m()\u001b[0m\n\u001b[1;32m      <a href='vscode-notebook-cell:/home/rathan/Desktop/something.ipynb#W1sZmlsZQ%3D%3D?line=1'>2</a>\u001b[0m \u001b[39mfor\u001b[39;00m item \u001b[39min\u001b[39;00m lang_list:\n\u001b[1;32m      <a href='vscode-notebook-cell:/home/rathan/Desktop/something.ipynb#W1sZmlsZQ%3D%3D?line=2'>3</a>\u001b[0m         temp \u001b[39m=\u001b[39m {}\n\u001b[0;32m----> <a href='vscode-notebook-cell:/home/rathan/Desktop/something.ipynb#W1sZmlsZQ%3D%3D?line=3'>4</a>\u001b[0m         \u001b[39mif\u001b[39;00m item[\u001b[39m\"\u001b[39m\u001b[39m_id\u001b[39m\u001b[39m\"\u001b[39m][\u001b[39m\"\u001b[39m\u001b[39msrcLanguage\u001b[39m\u001b[39m\"\u001b[39m] \u001b[39mnot\u001b[39;00m \u001b[39min\u001b[39;00m temp[item[\u001b[39m\"\u001b[39;49m\u001b[39m_id\u001b[39;49m\u001b[39m\"\u001b[39;49m]]\u001b[39m.\u001b[39mkeys():\n\u001b[1;32m      <a href='vscode-notebook-cell:/home/rathan/Desktop/something.ipynb#W1sZmlsZQ%3D%3D?line=4'>5</a>\u001b[0m             temp[item[\u001b[39m\"\u001b[39m\u001b[39m_id\u001b[39m\u001b[39m\"\u001b[39m][\u001b[39m\"\u001b[39m\u001b[39msrcLanguage\u001b[39m\u001b[39m\"\u001b[39m]] \u001b[39m=\u001b[39m {}\n\u001b[1;32m      <a href='vscode-notebook-cell:/home/rathan/Desktop/something.ipynb#W1sZmlsZQ%3D%3D?line=5'>6</a>\u001b[0m         temp[item[\u001b[39m\"\u001b[39m\u001b[39m_id\u001b[39m\u001b[39m\"\u001b[39m][\u001b[39m\"\u001b[39m\u001b[39msrcLanguage\u001b[39m\u001b[39m\"\u001b[39m]][\u001b[39m\"\u001b[39m\u001b[39mtgtLanguage\u001b[39m\u001b[39m\"\u001b[39m]\u001b[39m=\u001b[39mitem[\u001b[39m\"\u001b[39m\u001b[39m_id\u001b[39m\u001b[39m\"\u001b[39m][\u001b[39m\"\u001b[39m\u001b[39mtgtLanguage\u001b[39m\u001b[39m\"\u001b[39m]\n",
      "\u001b[0;31mTypeError\u001b[0m: unhashable type: 'dict'"
     ]
    }
   ],
   "source": [
    "diction['result'] = []\n",
    "for item in lang_list:\n",
    "        temp = {}\n",
    "        if item[\"_id\"][\"srcLanguage\"] not in temp.keys():\n",
    "            temp[item[\"_id\"][\"srcLanguage\"]] = {}\n",
    "        temp[item[\"_id\"][\"srcLanguage\"]][\"tgtLanguage\"]=item[\"_id\"][\"tgtLanguage\"]\n",
    "        temp[item[\"_id\"][\"srcLanguage\"]][\"count\"] = item[\"count\"]\n",
    "        langcount.append(temp)\n",
    "        totalcount += item[\"count\"]\n",
    "        diction['result'].append(temp)\n",
    "diction['totalcount'] = totalcount\n",
    "diction"
   ]
  }
 ],
 "metadata": {
  "kernelspec": {
   "display_name": "base",
   "language": "python",
   "name": "python3"
  },
  "language_info": {
   "codemirror_mode": {
    "name": "ipython",
    "version": 3
   },
   "file_extension": ".py",
   "mimetype": "text/x-python",
   "name": "python",
   "nbconvert_exporter": "python",
   "pygments_lexer": "ipython3",
   "version": "3.9.12"
  },
  "orig_nbformat": 4,
  "vscode": {
   "interpreter": {
    "hash": "3fa50822324a8658d1b24d1e53d4ce559082e4e555a283dbb14e94bc256a2b6c"
   }
  }
 },
 "nbformat": 4,
 "nbformat_minor": 2
}
